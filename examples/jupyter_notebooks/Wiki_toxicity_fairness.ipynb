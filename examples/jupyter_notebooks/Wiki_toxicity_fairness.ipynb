{
 "cells": [
  {
   "cell_type": "markdown",
   "metadata": {},
   "source": [
    "##### Copyright 2018 The TensorFlow Constrained Optimization Authors. All Rights Reserved.\n",
    "\n",
    "Licensed under the Apache License, Version 2.0 (the \"License\"); you may not use this file except in compliance with the License. You may obtain a copy of the License at\n",
    "\n",
    "> http://www.apache.org/licenses/LICENSE-2.0\n",
    "\n",
    "Unless required by applicable law or agreed to in writing, software distributed under the License is distributed on an \"AS IS\" BASIS, WITHOUT WARRANTIES OR CONDITIONS OF ANY KIND, either express or implied. See the License for the specific language governing permissions and limitations under the License."
   ]
  },
  {
   "cell_type": "markdown",
   "metadata": {},
   "source": [
    "## Wiki Talk Comments Toxicity Prediction\n",
    "\n",
    "In this example, we consider the task of predicting whether a discussion comment posted on a Wiki talk page contains toxic content (i.e. contains content that is “rude, disrespectful or unreasonable”). We use a public <a href=\"https://figshare.com/articles/Wikipedia_Talk_Labels_Toxicity/4563973\">dataset</a> released by the <a href=\"https://conversationai.github.io/\">Conversation AI</a> project, which contains over 100k comments from the English Wikipedia that are annotated by crowd workers.\n",
    "\n",
    "One of the challenges with this dataset is that a very small proportion of the comments in the dataset cover sensitive topics such as sexuality or religion. So, training a neural network model on this dataset by optimizing a simple cross-entropy objective often leads to disparate performance on the smaller sensitive topics. We shall see that by imposing constraints during training, we can train a *fairer* model that enjoys equitable performance across the different topic groups. We shall use the TFCO library to optimize for two different fairness goals during training.\n",
    "\n",
    "Let's first import the relevant libraries."
   ]
  },
  {
   "cell_type": "code",
   "execution_count": 16,
   "metadata": {},
   "outputs": [],
   "source": [
    "import os\n",
    "import shutil\n",
    "import sys\n",
    "import tempfile\n",
    "import zipfile\n",
    "\n",
    "import matplotlib.pyplot as plt\n",
    "import numpy as np\n",
    "import pandas as pd\n",
    "import tensorflow as tf\n",
    "import tensorflow.keras as keras\n",
    "from tensorflow.keras import layers\n",
    "from tensorflow.keras.preprocessing import sequence\n",
    "from tensorflow.keras.preprocessing import text\n",
    "import tensorflow_constrained_optimization as tfco"
   ]
  },
  {
   "cell_type": "markdown",
   "metadata": {},
   "source": [
    "Enable eager mode if using TensorFlow version 1.x. Eager mode is the default mode in higher versions of TensorFlow."
   ]
  },
  {
   "cell_type": "code",
   "execution_count": 17,
   "metadata": {},
   "outputs": [],
   "source": [
    "if int(tf.__version__[0]) < 2:\n",
    "    tf.enable_eager_execution()"
   ]
  },
  {
   "cell_type": "markdown",
   "metadata": {},
   "source": [
    "## Hyper-parameters\n",
    "\n",
    "Let's fix some hyper-parameters needed for the data preprocessing and model training."
   ]
  },
  {
   "cell_type": "code",
   "execution_count": 18,
   "metadata": {},
   "outputs": [],
   "source": [
    "hparams = {\n",
    "    \"batch_size\": 512,\n",
    "    \"cnn_filter_sizes\": [128, 128, 128],\n",
    "    \"cnn_kernel_sizes\": [5, 5, 5],\n",
    "    \"cnn_pooling_sizes\": [5, 5, 40],\n",
    "    \"constraint_learning_rate\": 0.01,\n",
    "    \"embedding_dim\": 100,\n",
    "    \"embedding_trainable\": False,\n",
    "    \"learning_rate\": 0.005,\n",
    "    \"max_num_words\": 10000,\n",
    "    \"max_sequence_length\": 250,\n",
    "    \"num_iterations\": 1000,\n",
    "    \"skip_iterations\": 50\n",
    "}"
   ]
  },
  {
   "cell_type": "markdown",
   "metadata": {},
   "source": [
    "## Load and pre-process dataset"
   ]
  },
  {
   "cell_type": "markdown",
   "metadata": {},
   "source": [
    "We next download the dataset and preprocess it. The train, test and validations sets are provided as separate CSV files."
   ]
  },
  {
   "cell_type": "code",
   "execution_count": 19,
   "metadata": {},
   "outputs": [
    {
     "data": {
      "text/html": [
       "<div>\n",
       "<style scoped>\n",
       "    .dataframe tbody tr th:only-of-type {\n",
       "        vertical-align: middle;\n",
       "    }\n",
       "\n",
       "    .dataframe tbody tr th {\n",
       "        vertical-align: top;\n",
       "    }\n",
       "\n",
       "    .dataframe thead th {\n",
       "        text-align: right;\n",
       "    }\n",
       "</style>\n",
       "<table border=\"1\" class=\"dataframe\">\n",
       "  <thead>\n",
       "    <tr style=\"text-align: right;\">\n",
       "      <th></th>\n",
       "      <th>rev_id</th>\n",
       "      <th>toxicity</th>\n",
       "      <th>comment</th>\n",
       "      <th>year</th>\n",
       "      <th>logged_in</th>\n",
       "      <th>ns</th>\n",
       "      <th>sample</th>\n",
       "      <th>split</th>\n",
       "      <th>is_toxic</th>\n",
       "    </tr>\n",
       "  </thead>\n",
       "  <tbody>\n",
       "    <tr>\n",
       "      <th>0</th>\n",
       "      <td>2232.0</td>\n",
       "      <td>0.1</td>\n",
       "      <td>This: :One can make an analogy in mathematical...</td>\n",
       "      <td>2002</td>\n",
       "      <td>True</td>\n",
       "      <td>article</td>\n",
       "      <td>random</td>\n",
       "      <td>train</td>\n",
       "      <td>False</td>\n",
       "    </tr>\n",
       "    <tr>\n",
       "      <th>1</th>\n",
       "      <td>4216.0</td>\n",
       "      <td>0.0</td>\n",
       "      <td>`  :Clarification for you  (and Zundark's righ...</td>\n",
       "      <td>2002</td>\n",
       "      <td>True</td>\n",
       "      <td>user</td>\n",
       "      <td>random</td>\n",
       "      <td>train</td>\n",
       "      <td>False</td>\n",
       "    </tr>\n",
       "    <tr>\n",
       "      <th>2</th>\n",
       "      <td>26547.0</td>\n",
       "      <td>0.0</td>\n",
       "      <td>`This is such a fun entry.   Devotchka  I once...</td>\n",
       "      <td>2002</td>\n",
       "      <td>True</td>\n",
       "      <td>article</td>\n",
       "      <td>random</td>\n",
       "      <td>train</td>\n",
       "      <td>False</td>\n",
       "    </tr>\n",
       "    <tr>\n",
       "      <th>3</th>\n",
       "      <td>37330.0</td>\n",
       "      <td>0.3</td>\n",
       "      <td>`   I fixed the link; I also removed ``homeopa...</td>\n",
       "      <td>2002</td>\n",
       "      <td>True</td>\n",
       "      <td>article</td>\n",
       "      <td>random</td>\n",
       "      <td>train</td>\n",
       "      <td>False</td>\n",
       "    </tr>\n",
       "    <tr>\n",
       "      <th>4</th>\n",
       "      <td>37346.0</td>\n",
       "      <td>0.1</td>\n",
       "      <td>`If they are ``indisputable`` then why does th...</td>\n",
       "      <td>2002</td>\n",
       "      <td>True</td>\n",
       "      <td>article</td>\n",
       "      <td>random</td>\n",
       "      <td>train</td>\n",
       "      <td>False</td>\n",
       "    </tr>\n",
       "  </tbody>\n",
       "</table>\n",
       "</div>"
      ],
      "text/plain": [
       "    rev_id  toxicity                                            comment  year  \\\n",
       "0   2232.0       0.1  This: :One can make an analogy in mathematical...  2002   \n",
       "1   4216.0       0.0  `  :Clarification for you  (and Zundark's righ...  2002   \n",
       "2  26547.0       0.0  `This is such a fun entry.   Devotchka  I once...  2002   \n",
       "3  37330.0       0.3  `   I fixed the link; I also removed ``homeopa...  2002   \n",
       "4  37346.0       0.1  `If they are ``indisputable`` then why does th...  2002   \n",
       "\n",
       "   logged_in       ns  sample  split  is_toxic  \n",
       "0       True  article  random  train     False  \n",
       "1       True     user  random  train     False  \n",
       "2       True  article  random  train     False  \n",
       "3       True  article  random  train     False  \n",
       "4       True  article  random  train     False  "
      ]
     },
     "execution_count": 19,
     "metadata": {},
     "output_type": "execute_result"
    }
   ],
   "source": [
    "toxicity_data_url = (\"https://raw.githubusercontent.com/conversationai/\"\n",
    "                     \"unintended-ml-bias-analysis/master/data/\")\n",
    "\n",
    "data_train = pd.read_csv(toxicity_data_url + \"wiki_train.csv\")\n",
    "data_test = pd.read_csv(toxicity_data_url + \"wiki_test.csv\")\n",
    "data_vali = pd.read_csv(toxicity_data_url + \"wiki_dev.csv\")\n",
    "\n",
    "data_train.head()"
   ]
  },
  {
   "cell_type": "markdown",
   "metadata": {},
   "source": [
    "The `comment` column contains the discussion comments and `is_toxic` column indicates whether or not a comment is annotated as toxic. \n",
    "\n",
    "In the following, we (i) separate out the labels, (ii) tokenize the text comments, and (iii) identify comments that contain sensitive topic terms. \n",
    "\n",
    "First, we separate the labels from the train, test and validation sets. The labels are all binary (0 or 1)."
   ]
  },
  {
   "cell_type": "code",
   "execution_count": 20,
   "metadata": {},
   "outputs": [],
   "source": [
    "labels_train = data_train[\"is_toxic\"].values.reshape(-1, 1) * 1.0\n",
    "labels_test = data_test[\"is_toxic\"].values.reshape(-1, 1) * 1.0\n",
    "labels_vali = data_vali[\"is_toxic\"].values.reshape(-1, 1) * 1.0"
   ]
  },
  {
   "cell_type": "markdown",
   "metadata": {},
   "source": [
    "Next, we tokenize the textual comments using the `Tokenizer` provided by `Keras`. We use the training set comments alone to build a vocabulary of tokens, and use them to convert all the comments into a (padded) sequence of tokens of the same length."
   ]
  },
  {
   "cell_type": "code",
   "execution_count": 21,
   "metadata": {},
   "outputs": [],
   "source": [
    "tokenizer = text.Tokenizer(num_words=hparams[\"max_num_words\"])\n",
    "tokenizer.fit_on_texts(data_train[\"comment\"])\n",
    "\n",
    "def prep_text(texts, tokenizer, max_sequence_length):\n",
    "    # Turns text into into padded sequences.\n",
    "    text_sequences = tokenizer.texts_to_sequences(texts)\n",
    "    return sequence.pad_sequences(text_sequences, maxlen=max_sequence_length)\n",
    "\n",
    "text_train = prep_text(data_train[\"comment\"], tokenizer, hparams[\"max_sequence_length\"])\n",
    "text_test = prep_text(data_test[\"comment\"], tokenizer, hparams[\"max_sequence_length\"])\n",
    "text_vali = prep_text(data_vali[\"comment\"], tokenizer, hparams[\"max_sequence_length\"])"
   ]
  },
  {
   "cell_type": "markdown",
   "metadata": {},
   "source": [
    "Finally, we identify comments belonging to certain sensitive topic groups. We consider a subset of the <a href=\"https://github.com/conversationai/unintended-ml-bias-analysis/blob/master/unintended_ml_bias/bias_madlibs_data/adjectives_people.txt\">identity terms</a> provided with the dataset and group them into\n",
    "four broad topic groups: *sexuality*, *gender identity*, *religion* and *race*."
   ]
  },
  {
   "cell_type": "code",
   "execution_count": 22,
   "metadata": {},
   "outputs": [],
   "source": [
    "terms = {\n",
    "    'sexuality': ['gay', 'lesbian', 'bisexual', 'homosexual', 'straight', 'heterosexual'], \n",
    "    'gender identity': ['trans', 'transgender', 'cis', 'nonbinary'],\n",
    "    'religion': ['christian', 'muslim', 'jewish', 'buddhist', 'catholic', 'protestant', 'sikh', 'taoist'],\n",
    "    'race': ['african', 'african american', 'black', 'white', 'european', 'hispanic', 'latino', 'latina', \n",
    "             'latinx', 'mexican', 'canadian', 'american', 'asian', 'indian', 'middle eastern', 'chinese', \n",
    "             'japanese']}\n",
    "\n",
    "group_names = list(terms.keys())\n",
    "num_groups = len(group_names)"
   ]
  },
  {
   "cell_type": "markdown",
   "metadata": {},
   "source": [
    "We then create separate group membership matrices for the train, test and validation sets, where the rows correspond to comments, the columns correspond to the four sensitive groups, and each entry is a boolean indicating whether the comment contains a term from the topic group."
   ]
  },
  {
   "cell_type": "code",
   "execution_count": 23,
   "metadata": {},
   "outputs": [],
   "source": [
    "def get_groups(text):\n",
    "    # Returns a boolean NumPy array of shape (n, k), where n is the number of comments, \n",
    "    # and k is the number of groups. Each entry (i, j) indicates if the i-th comment \n",
    "    # contains a term from the j-th group.\n",
    "    groups = np.zeros((text.shape[0], num_groups))\n",
    "    for ii in range(num_groups):\n",
    "        groups[:, ii] = text.str.contains('|'.join(terms[group_names[ii]]), case=False)\n",
    "    return groups\n",
    "\n",
    "groups_train = get_groups(data_train[\"comment\"])\n",
    "groups_test = get_groups(data_test[\"comment\"])\n",
    "groups_vali = get_groups(data_vali[\"comment\"])"
   ]
  },
  {
   "cell_type": "markdown",
   "metadata": {},
   "source": [
    "As shown below, all four topic groups constitute only a small fractions of the overall dataset, and have varying proportions of toxic comments."
   ]
  },
  {
   "cell_type": "code",
   "execution_count": 24,
   "metadata": {},
   "outputs": [
    {
     "name": "stdout",
     "output_type": "stream",
     "text": [
      "Overall label proportion = 9.7%\n"
     ]
    },
    {
     "data": {
      "text/html": [
       "<div>\n",
       "<style scoped>\n",
       "    .dataframe tbody tr th:only-of-type {\n",
       "        vertical-align: middle;\n",
       "    }\n",
       "\n",
       "    .dataframe tbody tr th {\n",
       "        vertical-align: top;\n",
       "    }\n",
       "\n",
       "    .dataframe thead th {\n",
       "        text-align: right;\n",
       "    }\n",
       "</style>\n",
       "<table border=\"1\" class=\"dataframe\">\n",
       "  <thead>\n",
       "    <tr style=\"text-align: right;\">\n",
       "      <th></th>\n",
       "      <th>Topic group</th>\n",
       "      <th>Group proportion</th>\n",
       "      <th>Label proportion</th>\n",
       "    </tr>\n",
       "  </thead>\n",
       "  <tbody>\n",
       "    <tr>\n",
       "      <th>0</th>\n",
       "      <td>sexuality</td>\n",
       "      <td>1.30%</td>\n",
       "      <td>37.0%</td>\n",
       "    </tr>\n",
       "    <tr>\n",
       "      <th>1</th>\n",
       "      <td>gender identity</td>\n",
       "      <td>5.34%</td>\n",
       "      <td>7.7%</td>\n",
       "    </tr>\n",
       "    <tr>\n",
       "      <th>2</th>\n",
       "      <td>religion</td>\n",
       "      <td>1.87%</td>\n",
       "      <td>8.6%</td>\n",
       "    </tr>\n",
       "    <tr>\n",
       "      <th>3</th>\n",
       "      <td>race</td>\n",
       "      <td>4.82%</td>\n",
       "      <td>9.2%</td>\n",
       "    </tr>\n",
       "  </tbody>\n",
       "</table>\n",
       "</div>"
      ],
      "text/plain": [
       "       Topic group Group proportion Label proportion\n",
       "0        sexuality            1.30%            37.0%\n",
       "1  gender identity            5.34%             7.7%\n",
       "2         religion            1.87%             8.6%\n",
       "3             race            4.82%             9.2%"
      ]
     },
     "execution_count": 24,
     "metadata": {},
     "output_type": "execute_result"
    }
   ],
   "source": [
    "print(\"Overall label proportion = %.1f%%\" % (labels_train.mean() * 100))\n",
    "\n",
    "group_stats = []\n",
    "for ii in range(num_groups):\n",
    "    group_proportion = groups_train[:, ii].mean()\n",
    "    group_pos_proportion = labels_train[groups_train[:, ii] == 1].mean()\n",
    "    group_stats.append([group_names[ii],\n",
    "                        \"%.2f%%\" % (group_proportion * 100), \n",
    "                        \"%.1f%%\" % (group_pos_proportion * 100)])\n",
    "group_stats = pd.DataFrame(group_stats, \n",
    "                           columns=[\"Topic group\", \"Group proportion\", \"Label proportion\"])\n",
    "group_stats"
   ]
  },
  {
   "cell_type": "markdown",
   "metadata": {},
   "source": [
    "In particular, only 1.3% of the dataset contains comments related to sexuality. Among them, 37% of the comments have been annotated as being toxic. Note that this is significantly larger than the overall proportion of comments annotated as toxic."
   ]
  },
  {
   "cell_type": "markdown",
   "metadata": {},
   "source": [
    "## Build CNN toxicity prediction model"
   ]
  },
  {
   "cell_type": "markdown",
   "metadata": {},
   "source": [
    "Having prepared the dataset, we now build a `Keras` model for prediction toxicity. The model we use is a convolutional neural network (CNN) with the same architecture used by the Conversation AI project for their debiasing analysis. We adapt <a href=\"https://github.com/conversationai/unintended-ml-bias-analysis/blob/master/unintended_ml_bias/model_tool.py\">code</a> provided by them to construct the model layers.\n",
    "\n",
    "The model uses an embedding layer to convert the text tokens to fixed-length vectors. This layer converts the input text sequence into a sequence of vectors, and passes them through several layers of convolution and pooling operations, followed by a final fully-connected layer.\n",
    "\n",
    "We make use of the GloVe word vector representations for the embedding layer. Download the pre-trained word vectors from this <a href=\"http://nlp.stanford.edu/data/glove.6B.zip\">URL</a> and save the zip file in the link to a local directory. Change the path below to point to the locally-saved zip file."
   ]
  },
  {
   "cell_type": "code",
   "execution_count": 25,
   "metadata": {},
   "outputs": [],
   "source": [
    "zip_file = \"/path/to/glove.6B.zip\""
   ]
  },
  {
   "cell_type": "markdown",
   "metadata": {},
   "source": [
    "We use the the downloaded GloVe embeddings to create an embedding matrix, where the rows contain the word embeddings for the tokens in the `Tokenizer`'s vocabulary. "
   ]
  },
  {
   "cell_type": "code",
   "execution_count": 26,
   "metadata": {},
   "outputs": [],
   "source": [
    "embeddings_index = {}\n",
    "glove_file = \"glove.6B.100d.txt\"\n",
    "\n",
    "archive = zipfile.ZipFile(zip_file)\n",
    "with archive.open(glove_file) as f:\n",
    "    for line in f:\n",
    "        values = line.split()\n",
    "        word = values[0].decode(\"utf-8\") \n",
    "        coefs = np.asarray(values[1:], dtype=\"float32\")\n",
    "        embeddings_index[word] = coefs\n",
    "\n",
    "embedding_matrix = np.zeros((len(tokenizer.word_index) + 1, hparams[\"embedding_dim\"]))\n",
    "num_words_in_embedding = 0\n",
    "for word, i in tokenizer.word_index.items():\n",
    "    embedding_vector = embeddings_index.get(word)\n",
    "    if embedding_vector is not None:\n",
    "        num_words_in_embedding += 1\n",
    "        embedding_matrix[i] = embedding_vector"
   ]
  },
  {
   "cell_type": "markdown",
   "metadata": {},
   "source": [
    "We are now ready to specify the `Keras` layers. We write a function to create a new model, which we will invoke whenever we wish to train a new model."
   ]
  },
  {
   "cell_type": "code",
   "execution_count": 27,
   "metadata": {},
   "outputs": [],
   "source": [
    "def create_model():\n",
    "    model = keras.Sequential()\n",
    "\n",
    "    # Embedding layer.\n",
    "    embedding_layer = layers.Embedding(\n",
    "        embedding_matrix.shape[0], embedding_matrix.shape[1], weights=[embedding_matrix],\n",
    "        input_length=hparams[\"max_sequence_length\"], trainable=hparams['embedding_trainable'])\n",
    "    model.add(embedding_layer)\n",
    "\n",
    "    # Convolution layers.\n",
    "    for filter_size, kernel_size, pool_size in zip(\n",
    "        hparams['cnn_filter_sizes'], hparams['cnn_kernel_sizes'], hparams['cnn_pooling_sizes']):\n",
    "\n",
    "        conv_layer = layers.Conv1D(filter_size, kernel_size, activation='relu', padding='same')\n",
    "        model.add(conv_layer)\n",
    "\n",
    "        pooled_layer = layers.MaxPooling1D(pool_size, padding='same')\n",
    "        model.add(pooled_layer)\n",
    "\n",
    "    # Add a flatten layer, a fully-connected layer and an output layer.\n",
    "    model.add(layers.Flatten())\n",
    "    model.add(layers.Dense(128, activation='relu'))\n",
    "    model.add(layers.Dense(1))\n",
    "    \n",
    "    return model"
   ]
  },
  {
   "cell_type": "markdown",
   "metadata": {},
   "source": [
    "## Evaluation and plotting functions"
   ]
  },
  {
   "cell_type": "markdown",
   "metadata": {},
   "source": [
    "Before proceeding to training the model, we will write functions to evaluate the overall error rate, the overall false negative rate and the overall false positive rate for the given labels and predictions. We also include functions to evaluate the false positive and false negative rates for individual groups."
   ]
  },
  {
   "cell_type": "code",
   "execution_count": 28,
   "metadata": {},
   "outputs": [],
   "source": [
    "def error_rate(labels, predictions):\n",
    "    # Returns error rate for given labels and predictions.\n",
    "    # Recall that the labels are binary (0 or 1).\n",
    "    signed_labels = (labels * 2) - 1\n",
    "    return np.mean(signed_labels * predictions <= 0.0)\n",
    "\n",
    "\n",
    "def false_negative_rate(labels, predictions):\n",
    "    # Returns false negative rate for given labels and predictions.\n",
    "    if np.sum(labels > 0) == 0:  # Any positives?\n",
    "        return 0.0\n",
    "    else:\n",
    "        return np.mean(predictions[labels > 0] <= 0)\n",
    "\n",
    "\n",
    "def false_positive_rate(labels, predictions):\n",
    "    # Returns false positive rate for given labels and predictions.\n",
    "    if np.sum(labels <= 0) == 0:  # Any negatives?\n",
    "        return 0.0\n",
    "    else:\n",
    "        return np.mean(predictions[labels <= 0] > 0)\n",
    "\n",
    "\n",
    "def group_false_negative_rates(labels, predictions, groups):\n",
    "    # Returns list of per-group false negative rates for given labels, \n",
    "    # predictions and group membership matrix.\n",
    "    fnrs = []\n",
    "    for ii in range(groups.shape[1]):\n",
    "        labels_ii = labels[groups[:, ii] == 1]\n",
    "        if np.sum(labels_ii > 0) > 0:  # Any positives?\n",
    "            predictions_ii = predictions[groups[:, ii] == 1]\n",
    "            fnr_ii = np.mean(predictions_ii[labels_ii > 0] <= 0)\n",
    "        else:\n",
    "            fnr_ii = 0.0\n",
    "        fnrs.append(fnr_ii)\n",
    "    return fnrs\n",
    "\n",
    "\n",
    "def group_false_positive_rates(labels, predictions, groups):\n",
    "    # Returns list of per-group false positive rates for given labels, \n",
    "    # predictions and group membership matrix.\n",
    "    fprs = []\n",
    "    for ii in range(groups.shape[1]):\n",
    "        labels_ii = labels[groups[:, ii] == 1]\n",
    "        if np.sum(labels_ii <= 0) > 0:  # Any negatives?\n",
    "            predictions_ii = predictions[groups[:, ii] == 1]\n",
    "            fpr_ii = np.mean(predictions_ii[labels_ii <= 0] > 0)\n",
    "        else:\n",
    "            fpr_ii = 0.0\n",
    "        fprs.append(fpr_ii)\n",
    "    return fprs"
   ]
  },
  {
   "cell_type": "markdown",
   "metadata": {},
   "source": [
    "We also write a function to generate a bar plot of the above metrics for given labels, predictions and group information. "
   ]
  },
  {
   "cell_type": "code",
   "execution_count": 29,
   "metadata": {},
   "outputs": [],
   "source": [
    "# Set plot fonts.\n",
    "plt.rcParams['font.sans-serif'] = \"Arial\"\n",
    "plt.rcParams['font.family'] = \"sans-serif\"\n",
    "plt.rcParams['font.size'] = 13\n",
    "\n",
    "# Color-blind friendly color palette from https://gist.github.com/thriveth/8560036\n",
    "cb_palette = [\"#377eb8\", \"#ff7f00\", \"#4daf4a\", \"#f781bf\", \"#a65628\", \"#984ea3\",\n",
    "              \"#e41a1c\", \"#dede00\", \"#999999\"]"
   ]
  },
  {
   "cell_type": "code",
   "execution_count": 30,
   "metadata": {},
   "outputs": [],
   "source": [
    "def plot_metrics(labels, predictions, groups, group_names, title):\n",
    "    # Plot overall FPR, overall FNR, per-group FPRs, per-group FNRs for given labels, \n",
    "    # predictions, group membership matrix, group names, and plot title.\n",
    "    \n",
    "    # Evaluate all the above metrics.\n",
    "    overall_error = error_rate(labels, predictions)\n",
    "    overall_fpr = false_positive_rate(labels, predictions)\n",
    "    overall_fnr = false_negative_rate(labels, predictions)\n",
    "    group_fprs = group_false_positive_rates(labels, predictions, groups)\n",
    "    group_fnrs = group_false_negative_rates(labels, predictions, groups)\n",
    "    \n",
    "    # Plot bar plot overall and per-group FPRs and FNRs.\n",
    "    fig, ax = plt.subplots(1, 2, figsize=(8, 3))\n",
    "\n",
    "    fpr_percentages = [x * 100 for x in [overall_fpr] + group_fprs]\n",
    "    fnr_percentages = [x * 100 for x in [overall_fnr] + group_fnrs]\n",
    "\n",
    "    ax[0].barh(-np.arange(len(group_names) + 1), fpr_percentages, color=cb_palette)\n",
    "    ax[0].set_yticks(-np.arange(len(group_names) + 1))\n",
    "    ax[0].set_yticklabels([\"overall\"] + group_names)\n",
    "    ax[0].set_xlabel(\"False Positive Rate %\")\n",
    "    ax[0].set_xlim([0, max(10, max(fpr_percentages) + 1)])\n",
    "\n",
    "    ax[1].barh(-np.arange(len(group_names) + 1), fnr_percentages, color=cb_palette)\n",
    "    ax[1].set_yticks(-np.arange(len(group_names) + 1))\n",
    "    ax[1].set_yticklabels([\"overall\"] + group_names)\n",
    "    ax[1].set_xlabel(\"False Negative Rate %\")\n",
    "    ax[1].set_xlim([0, max(fnr_percentages) + 1])\n",
    "\n",
    "    fig.tight_layout()\n",
    "    \n",
    "    # Specify accuracy rate in the plot title.\n",
    "    fig.suptitle(title + \": Accuracy = %.2f%%\" % ((1 - overall_error) * 100), \n",
    "                 x=0.55, y=1.1)"
   ]
  },
  {
   "cell_type": "markdown",
   "metadata": {},
   "source": [
    "## Train unconstrained model"
   ]
  },
  {
   "cell_type": "markdown",
   "metadata": {},
   "source": [
    "For the first model we train, we optimize a simple cross-entropy loss *without* any constraints.."
   ]
  },
  {
   "cell_type": "code",
   "execution_count": 22,
   "metadata": {},
   "outputs": [],
   "source": [
    "# Set random seed for reproducible results.\n",
    "np.random.seed(121212)\n",
    "tf.random.set_seed(212121)"
   ]
  },
  {
   "cell_type": "markdown",
   "metadata": {},
   "source": [
    "We will use minibatches to train the model. We create separate `Tensors` to hold the features, labels and group  information in the current batch. The features tensor contains the text sequence for each example in the current batch and is of shape (batch size, text sequence length). The labels tensor constains the binary labels for each example in the current batch and is of shape (batch size, 1). The groups tensor constains the group membership vector for each example in the current batch and is of shape (batch size, no. of groups)."
   ]
  },
  {
   "cell_type": "code",
   "execution_count": 23,
   "metadata": {},
   "outputs": [],
   "source": [
    "# Create features, labels, groups tensors to hold minibatch content.\n",
    "batch_shape = (hparams[\"batch_size\"], hparams['max_sequence_length'])\n",
    "features_tensor = tf.Variable(np.zeros(batch_shape, dtype=\"int32\"), name=\"features\")\n",
    "\n",
    "batch_shape = (hparams[\"batch_size\"], 1)\n",
    "labels_tensor = tf.Variable(np.zeros(batch_shape, dtype=\"float32\"), name=\"labels\")\n",
    "\n",
    "batch_shape = (hparams[\"batch_size\"], num_groups)\n",
    "groups_tensor = tf.Variable(np.zeros(batch_shape, dtype=\"float32\"), name=\"groups\")"
   ]
  },
  {
   "cell_type": "markdown",
   "metadata": {},
   "source": [
    "We instantiate a new model, create predictions and loss functions, and set up the optimizer."
   ]
  },
  {
   "cell_type": "code",
   "execution_count": 24,
   "metadata": {},
   "outputs": [],
   "source": [
    "# Model and predictions. For the predictions, we use a nullary function returning a \n",
    "# Tensor to support eager mode.\n",
    "model_unconstrained = create_model()\n",
    "def predictions():\n",
    "    return model_unconstrained(features_tensor)\n",
    "\n",
    "# Cross_entropy loss on labels and predictions tensor. We use a nullary function returning a \n",
    "# Tensor to support eager mode.\n",
    "def loss():\n",
    "    return tf.reduce_mean(tf.keras.losses.binary_crossentropy(\n",
    "        labels_tensor, predictions(), from_logits=True))\n",
    "\n",
    "# Set up optimizer.\n",
    "optimizer = tf.keras.optimizers.Adam(learning_rate=hparams[\"learning_rate\"])\n",
    "\n",
    "# List of variables to optimize (in this case, the model parameters).\n",
    "var_list = model_unconstrained.trainable_weights"
   ]
  },
  {
   "cell_type": "markdown",
   "metadata": {},
   "source": [
    "We are ready to train the model. We maintain a counter for the minibatches, and based on the current counter, identify the window of indices in the training set to read from, and cycle back to the beginning whenever we reach the end of the training set. Since we are operating in eager mode, we can directly assign the content from the current batch to the features, labels and groups tensors and call the `optimizer.minimize()` function to perform a gradient step on the loss."
   ]
  },
  {
   "cell_type": "code",
   "execution_count": 25,
   "metadata": {},
   "outputs": [
    {
     "name": "stdout",
     "output_type": "stream",
     "text": [
      "Iteration 1000: Batch loss = 0.060 "
     ]
    }
   ],
   "source": [
    "batch_index = 0  # Counter for the minibatch stream.\n",
    "\n",
    "num_examples = text_train.shape[0]\n",
    "batch_size = hparams[\"batch_size\"]\n",
    "\n",
    "# Loop over minibatches.\n",
    "for batch_index in range(hparams[\"num_iterations\"] + 1):\n",
    "    # Indices for current minibatch of training examples.\n",
    "    batch_indices = np.arange(batch_index * batch_size, (batch_index + 1) * batch_size)\n",
    "    batch_indices = [ind % num_examples for ind in batch_indices]\n",
    "\n",
    "    # Assign features, labels, groups.\n",
    "    features_tensor.assign(text_train[batch_indices, :])\n",
    "    labels_tensor.assign(labels_train[batch_indices])\n",
    "\n",
    "    # Gradient update.\n",
    "    optimizer.minimize(loss, var_list=var_list)\n",
    "\n",
    "    # Display loss on the current batch.\n",
    "    sys.stdout.write(\"\\rIteration %d: Batch loss = %.3f \" % (batch_index, loss()))"
   ]
  },
  {
   "cell_type": "markdown",
   "metadata": {},
   "source": [
    "Having trained the unconstrained model, we plot various evaluation metrics for the model on the test set."
   ]
  },
  {
   "cell_type": "code",
   "execution_count": 26,
   "metadata": {},
   "outputs": [
    {
     "data": {
      "image/png": "[encoded data removed]",
      "text/plain": [
       "<Figure size 576x216 with 2 Axes>"
      ]
     },
     "metadata": {
      "needs_background": "light"
     },
     "output_type": "display_data"
    }
   ],
   "source": [
    "scores_unconstrained_test = model_unconstrained.predict(text_test)\n",
    "plot_metrics(labels_test, scores_unconstrained_test, groups_test, group_names, \n",
    "             \"Unconstrained Model\")"
   ]
  },
  {
   "cell_type": "markdown",
   "metadata": {},
   "source": [
    "While the overall false positive rate is less than 2%, the false positive rate on the sexuality-related comments is significantly higher. This is because the sexuality group is very small in size, and has a disproportionately higher fraction of comments annotated as toxic. Hence, training a model without constraints results in the model believing that sexuality-related terms are a strong indicator of toxicity."
   ]
  },
  {
   "cell_type": "markdown",
   "metadata": {},
   "source": [
    "## Train with constraints on false positive rates"
   ]
  },
  {
   "cell_type": "markdown",
   "metadata": {},
   "source": [
    "To avoid large differences in false positive rates across different groups, we \n",
    "next train a model by constraining the false positive rates for each group to be within a desired limit. Specifically, we optimize the error rate of the model subject to the *per-group false positive rates being lesser or equal to 2%*.\n",
    "\n",
    "Performing minibatch training with per-group constraints can however be challenging for this dataset, as the groups we wish to constraint are all small in size, and its likely that the individual minibatches contains very few examples from each group. Hence the gradients we compute during training will be noisy, and result in the model converging very slowly. \n",
    "\n",
    "To mitigate this problem, we recommend using two streams of minibatches, with the first stream formed as before from the entire training set, and the second stream formed solely from the sensitive group examples. We will compute the objective using minibatches from the first stream and the per-group constraints using minibatches from the second stream. Because the batches from the second stream are likely to contain larger number of examples from each group, we expect our updates to be less noisy. This strategy is similar to the one described in the <a href=\"https://github.com/google-research/tensorflow_constrained_optimization/blob/master/examples/jupyter_notebooks/Minibatch_training.ipynb\" >Minibatch_training.ipynb</a> notebook.\n",
    "\n",
    "We create separate features, labels and groups tensors to hold the minibatches from the two streams."
   ]
  },
  {
   "cell_type": "code",
   "execution_count": 27,
   "metadata": {},
   "outputs": [],
   "source": [
    "# Set random seed.\n",
    "np.random.seed(121212)\n",
    "tf.random.set_seed(212121)\n",
    "\n",
    "# Features tensors.\n",
    "batch_shape = (hparams[\"batch_size\"], hparams['max_sequence_length'])\n",
    "features_tensor = tf.Variable(np.zeros(batch_shape, dtype='int32'), name='x')\n",
    "features_tensor_sen = tf.Variable(np.zeros(batch_shape, dtype='int32'), name='x_sen')\n",
    "\n",
    "# Labels tensors.\n",
    "batch_shape = (hparams[\"batch_size\"], 1)\n",
    "labels_tensor = tf.Variable(np.zeros(batch_shape, dtype='float32'), name='labels')\n",
    "labels_tensor_sen = tf.Variable(np.zeros(batch_shape, dtype='float32'), name='labels_sen')\n",
    "\n",
    "# Groups tensors.\n",
    "batch_shape = (hparams[\"batch_size\"], num_groups)\n",
    "groups_tensor = tf.Variable(np.zeros(batch_shape, dtype='float32'), name='groups')\n",
    "groups_tensor_sen = tf.Variable(np.zeros(batch_shape, dtype='float32'), name='groups_sen')"
   ]
  },
  {
   "cell_type": "markdown",
   "metadata": {},
   "source": [
    "We instantiate a new model, and compute predictions for minibatches from the two streams."
   ]
  },
  {
   "cell_type": "code",
   "execution_count": 28,
   "metadata": {},
   "outputs": [],
   "source": [
    "# Create model, and separate prediction functions for the two streams. \n",
    "# For the predictions, we use a nullary function returning a Tensor to support eager mode.\n",
    "model_constrained = create_model()\n",
    "\n",
    "def predictions():\n",
    "  return model_constrained(features_tensor)\n",
    "\n",
    "def predictions_sen():\n",
    "  return model_constrained(features_tensor_sen)"
   ]
  },
  {
   "cell_type": "markdown",
   "metadata": {},
   "source": [
    "We then set up a constrained optimization problem with the error rate as the objective and with constraints on the per-group false positive rate."
   ]
  },
  {
   "cell_type": "code",
   "execution_count": 29,
   "metadata": {},
   "outputs": [],
   "source": [
    "epsilon = 0.02  # Desired false-positive rate threshold.\n",
    "\n",
    "# Set up separate contexts for the two minibatch streams.\n",
    "context = tfco.rate_context(predictions, labels_tensor)\n",
    "context_sen = tfco.rate_context(predictions_sen, labels_tensor_sen)\n",
    "\n",
    "# Compute the objective using the first stream.\n",
    "objective = tfco.error_rate(context)\n",
    "\n",
    "# Compute the constraints using the second stream.\n",
    "# For each group, subset the examples belonging to that group from the second stream, \n",
    "# and add a constraint on the group's false positive rate.\n",
    "constraints = []\n",
    "for ii in range(num_groups):\n",
    "    context_sen_subset = context_sen.subset(groups_tensor[:, ii] > 0)\n",
    "    constraints.append(\n",
    "        tfco.false_positive_rate(context_sen_subset) <= epsilon)  \n",
    "\n",
    "# Create a rate minimization problem.\n",
    "problem = tfco.RateMinimizationProblem(objective, constraints)\n",
    "\n",
    "# Set up a constrained optimizer.\n",
    "optimizer = tfco.ProxyLagrangianOptimizerV2(\n",
    "    optimizer=tf.keras.optimizers.Adam(learning_rate=hparams[\"learning_rate\"]),\n",
    "    constraint_optimizer=tf.keras.optimizers.Adam(\n",
    "        learning_rate=hparams[\"constraint_learning_rate\"]),\n",
    "    num_constraints=problem.num_constraints)\n",
    "\n",
    "# List of variables to optimize include the model weights, \n",
    "# and the trainable variables from the rate minimization problem and \n",
    "# the constrained optimizer.\n",
    "var_list = (model_constrained.trainable_weights + problem.trainable_variables +\n",
    "            optimizer.trainable_variables())"
   ]
  },
  {
   "cell_type": "markdown",
   "metadata": {},
   "source": [
    "We are ready to train the model. We maintain a separate counter for the two minibatch streams. Every time we perform a gradient update, we will have to copy the minibatch contents from the first stream to the tensors `features_tensor` and `labels_tensor`, and the minibatch contents from the second stream to the tensors `features_tensor_sen`, `labels_tensor_sen` and `groups_tensor_sen`.\n",
    "\n",
    "Also note since we are solving aconstrained optimization problem, the final iterate from training  may not always be the best solution, and an intermediate iterate may do a better job of optimizing objective while satisfying the constraints. So, we periodically snapshot the model parameters and evaluate its performance on the validation set. At the end of training, we choose the best iterate from the recorded snapshots using a heuristic provided the TF constrained optimization library."
   ]
  },
  {
   "cell_type": "code",
   "execution_count": 30,
   "metadata": {},
   "outputs": [
    {
     "name": "stdout",
     "output_type": "stream",
     "text": [
      "Iteration 1000: Validation error = 0.045, Validation violation = 0.014 "
     ]
    }
   ],
   "source": [
    "# Create temporary directory to record model snapshots.\n",
    "temp_directory = tempfile.mktemp()\n",
    "os.mkdir(temp_directory)\n",
    "\n",
    "# Indices of sensitive group members.\n",
    "protected_group_indices = np.nonzero(groups_train.sum(axis=1))[0]\n",
    "\n",
    "num_examples = text_train.shape[0]\n",
    "num_examples_sen = protected_group_indices.shape[0]\n",
    "batch_size = hparams[\"batch_size\"]\n",
    "\n",
    "# List of recorded objectives and constrained violations.\n",
    "objectives_list = []\n",
    "violations_list = []\n",
    "\n",
    "# Loop over minibatches.\n",
    "for batch_index in range(hparams[\"num_iterations\"] + 1):\n",
    "    # Indices for current minibatch in the first stream.\n",
    "    batch_indices = np.arange(batch_index * batch_size, (batch_index + 1) * batch_size)\n",
    "    batch_indices = [ind % num_examples for ind in batch_indices]\n",
    "\n",
    "    # Indices for current minibatch in the second stream.\n",
    "    batch_indices_sen = np.arange(batch_index * batch_size, (batch_index + 1) * batch_size)\n",
    "    batch_indices_sen = [protected_group_indices[ind % num_examples_sen]\n",
    "                         for ind in batch_indices_sen]\n",
    "\n",
    "    # Assign features, labels, groups from the minibatches to the respective tensors.\n",
    "    features_tensor.assign(text_train[batch_indices, :])\n",
    "    labels_tensor.assign(labels_train[batch_indices])\n",
    "\n",
    "    features_tensor_sen.assign(text_train[batch_indices_sen, :])\n",
    "    labels_tensor_sen.assign(labels_train[batch_indices_sen])\n",
    "    groups_tensor_sen.assign(groups_train[batch_indices_sen, :])\n",
    "\n",
    "    # Gradient update.\n",
    "    optimizer.minimize(problem, var_list=var_list)\n",
    "\n",
    "    # Once in every skip_iterations iterations, snapshot model parameters \n",
    "    # and evaluate objective and constraint violations on validation set.\n",
    "    if batch_index % hparams[\"skip_iterations\"] == 0:\n",
    "        # Evaluate model on validation set.\n",
    "        scores_vali = model_constrained.predict(text_vali)\n",
    "\n",
    "        error = error_rate(labels_vali, scores_vali)  # Error rate\n",
    "        group_fprs = group_false_positive_rates(labels_vali, scores_vali, groups_vali)\n",
    "        violations = [z - epsilon for z in group_fprs]  # FPR constraint violations\n",
    "        \n",
    "        objectives_list.append(error)\n",
    "        violations_list.append(violations)\n",
    "\n",
    "        # Save model weights to temporary directory.\n",
    "        model_constrained.save_weights(\n",
    "            temp_directory + \"constrained_\" + \n",
    "            str(int(batch_index / hparams[\"skip_iterations\"])) + \".h5\")\n",
    "\n",
    "    # Display most recently recorded objective and maximum violation in constraints.\n",
    "    sys.stdout.write(\"\\rIteration %d: Validation error = %.3f, Validation violation = %.3f \" % \n",
    "                     (batch_index, objectives_list[-1], max(violations_list[-1])))\n",
    "\n",
    "# Select the best model from the recorded iterates using TFCO's find best \n",
    "# candidates heuristic.\n",
    "best_index = tfco.find_best_candidate_index(\n",
    "    np.array(objectives_list), np.array(violations_list),\n",
    "    rank_objectives=False)\n",
    "\n",
    "# Load model weights for the best iterate from the snapshots saved previously.\n",
    "model_constrained.load_weights(\n",
    "    temp_directory + \"constrained_\" + str(best_index) + \".h5\")"
   ]
  },
  {
   "cell_type": "markdown",
   "metadata": {},
   "source": [
    "Having trained the constrained model, we plot various evaluation metrics for the model on the test set."
   ]
  },
  {
   "cell_type": "code",
   "execution_count": 31,
   "metadata": {},
   "outputs": [
    {
     "data": {
      "image/png": "[encoded data removed]",
      "text/plain": [
       "<Figure size 576x216 with 2 Axes>"
      ]
     },
     "metadata": {
      "needs_background": "light"
     },
     "output_type": "display_data"
    }
   ],
   "source": [
    "scores_constrained_test = model_constrained.predict(text_test)\n",
    "plot_metrics(labels_test, scores_constrained_test, groups_test, group_names, \n",
    "             \"Constrained Model\")"
   ]
  },
  {
   "cell_type": "markdown",
   "metadata": {},
   "source": [
    "The model satisfies the specified constraints on the test set, i.e. yields a false positive rate within 2% for all the groups. Below, we present a side-by-side comparison of the plots for the unconstrained and constrained models."
   ]
  },
  {
   "cell_type": "code",
   "execution_count": 32,
   "metadata": {},
   "outputs": [
    {
     "data": {
      "image/png": "[encoded data removed]",
      "text/plain": [
       "<Figure size 576x216 with 2 Axes>"
      ]
     },
     "metadata": {
      "needs_background": "light"
     },
     "output_type": "display_data"
    }
   ],
   "source": [
    "# Evaluate all evaluation metrics.\n",
    "overall_error1 = error_rate(labels_test, scores_unconstrained_test)\n",
    "overall_error2 = error_rate(labels_test, scores_constrained_test)\n",
    "\n",
    "overall_fpr1 = false_positive_rate(labels_test, scores_unconstrained_test)\n",
    "overall_fpr2 = false_positive_rate(labels_test, scores_constrained_test)\n",
    "\n",
    "group_fprs1 = group_false_positive_rates(labels_test, scores_unconstrained_test, groups_test)\n",
    "group_fprs2 = group_false_positive_rates(labels_test, scores_constrained_test, groups_test)\n",
    "\n",
    "# Plot FPRs and FNRs.\n",
    "fig, ax = plt.subplots(1, 2, figsize=(8, 3))\n",
    "\n",
    "fpr_percentages1 = [x * 100 for x in [overall_fpr1] + group_fprs1]\n",
    "fpr_percentages2 = [x * 100 for x in [overall_fpr2] + group_fprs2]\n",
    "\n",
    "ax[0].barh(-np.arange(len(group_names) + 1), fpr_percentages1, color=cb_palette)\n",
    "ax[0].set_yticks(-np.arange(len(group_names) + 1))\n",
    "ax[0].set_yticklabels([\"overall\"] + group_names)\n",
    "ax[0].set_xlabel(\"False Positive Rate %\")\n",
    "ax[0].set_xlim([0, max(10, max(fpr_percentages1) + 1)])\n",
    "ax[0].set_title(\"Unconstrained Model\\nAccuracy = %.2f%%\" % ((1 - overall_error1) * 100), \n",
    "                fontsize=14)\n",
    "\n",
    "ax[1].barh(-np.arange(len(group_names) + 1), fpr_percentages2, color=cb_palette)\n",
    "ax[1].set_yticks(-np.arange(len(group_names) + 1))\n",
    "ax[1].set_yticklabels([\"overall\"] + group_names)\n",
    "ax[1].set_xlabel(\"False Positive Rate %\")\n",
    "ax[1].set_xlim([0, max(10, max(fpr_percentages2) + 1)])\n",
    "ax[1].set_title(\"Constrained Model\\nAccuracy = %.2f%%\" % ((1 - overall_error2) * 100), \n",
    "                fontsize=14)\n",
    "\n",
    "fig.tight_layout()"
   ]
  },
  {
   "cell_type": "markdown",
   "metadata": {},
   "source": [
    "Clearly, the constrained model yields significantly lower false positive rates for sexuality-related comments, while maintaining almost the overall accuracy as the unconstrained model."
   ]
  },
  {
   "cell_type": "markdown",
   "metadata": {},
   "source": [
    "## Train with robust optimization"
   ]
  },
  {
   "cell_type": "markdown",
   "metadata": {},
   "source": [
    "We have seen that by using constrained optimization, we can learn a model that has low false positive rates (FPRs) for all groups. However, the models we have trained so far all have high false negative rates (FNRs). We could try training a model with additional constraints on the per-group FNRs, but this is likely to overconstrain the model and produce a trivial solution, such as e.g. a model that makes the same prediction on all inputs. \n",
    "\n",
    "Instead, a more reasonable solution would be to train a model by optimizing for the worst-case  metric, i.e. minimizing the worst among all the metrics we care about. In the following, we seek to optimize the worst among the following metrics: *the overall FPR*, *the overall FNR*, *the FPR for each group*, and *the FNR for each group*. More formally, this can be stated as:\n",
    "\n",
    "$$\n",
    "minimize ~~max\\big\\{OverallFPR,~ OverallFNR,~ FPR(sexuality),~ \\ldots,~ FNR(sexuality),~ \\ldots\\big\\}.\n",
    "$$\n",
    "\n",
    "Since the goal here is to be robust to a set of different evaluation metrics, problems of this form are often referred to as *robust optimization problems*.\n",
    "\n",
    "Below, we solve the above robust optimization problem using the TF constrained optimization library. We once again use two streams of minibatches to better handle the small group sizes."
   ]
  },
  {
   "cell_type": "code",
   "execution_count": 34,
   "metadata": {},
   "outputs": [],
   "source": [
    "# Set random seed.\n",
    "np.random.seed(121212)\n",
    "tf.random.set_seed(212121)\n",
    "\n",
    "# Features tensor.\n",
    "batch_shape = (hparams[\"batch_size\"], hparams['max_sequence_length'])\n",
    "features_tensor = tf.Variable(np.zeros(batch_shape, dtype='int32'), name='x')\n",
    "features_tensor_sen = tf.Variable(np.zeros(batch_shape, dtype='int32'), name='x_sen')\n",
    "\n",
    "# Label tensors.\n",
    "batch_shape = (hparams[\"batch_size\"], 1)\n",
    "labels_tensor = tf.Variable(np.zeros(batch_shape, dtype='float32'), name='labels')\n",
    "labels_tensor_sen = tf.Variable(np.zeros(batch_shape, dtype='float32'), name='labels_sen')\n",
    "\n",
    "# Group tensors.\n",
    "batch_shape = (hparams[\"batch_size\"], num_groups)\n",
    "groups_tensor = tf.Variable(np.zeros(batch_shape, dtype='float32'), name='groups')\n",
    "groups_tensor_sen = tf.Variable(np.zeros(batch_shape, dtype='float32'), name='groups_sen')\n",
    "\n",
    "# Create model and predictions functions.\n",
    "model_robust = create_model()\n",
    "\n",
    "def predictions():\n",
    "  return model_robust(features_tensor)\n",
    "\n",
    "def predictions_sen():\n",
    "  return model_robust(features_tensor_sen)"
   ]
  },
  {
   "cell_type": "markdown",
   "metadata": {},
   "source": [
    "We formulate a rate minimization problem by creating a list of rate metrics we are interested in and using `tfco.upper_bound` to define the maximum of these metrics as the optimization objective."
   ]
  },
  {
   "cell_type": "code",
   "execution_count": 35,
   "metadata": {},
   "outputs": [],
   "source": [
    "# Set up separate contexts for the two minibatch streams.\n",
    "context = tfco.rate_context(predictions, labels_tensor)\n",
    "context_sen = tfco.rate_context(predictions_sen, labels_tensor_sen)\n",
    "\n",
    "# List of metrics we are interested in.\n",
    "metrics = []\n",
    "\n",
    "# Add overall FPR and overall FNR, computed using the first stream.\n",
    "metrics.append(tfco.false_positive_rate(context))\n",
    "metrics.append(tfco.false_negative_rate(context))\n",
    "\n",
    "# Add group-specific FPRs and FNRs, computed using the second stream.\n",
    "for ii in range(num_groups):\n",
    "    context_sen_subset = context_sen.subset(groups_tensor[:, ii] > 0)\n",
    "    metrics.append(tfco.false_positive_rate(context_sen_subset))\n",
    "    metrics.append(tfco.false_negative_rate(context_sen_subset))\n",
    "\n",
    "# Set up optimization problem with the \"max\" of all the metrics as the objective.\n",
    "problem = tfco.RateMinimizationProblem(tfco.upper_bound(metrics))\n",
    "\n",
    "# Set up constrained optimizer.\n",
    "optimizer = tfco.ProxyLagrangianOptimizerV2(\n",
    "    optimizer=tf.keras.optimizers.Adam(learning_rate=hparams[\"learning_rate\"]),\n",
    "    constraint_optimizer=tf.keras.optimizers.Adam(\n",
    "        learning_rate=hparams[\"constraint_learning_rate\"]),\n",
    "    num_constraints=problem.num_constraints)\n",
    "\n",
    "# List of variables to optimize include the model weights, \n",
    "# and the trainable variables from the rate minimization problem and \n",
    "# the constrained optimizer.\n",
    "var_list = (model_robust.trainable_weights + problem.trainable_variables +\n",
    "            optimizer.trainable_variables())"
   ]
  },
  {
   "cell_type": "markdown",
   "metadata": {},
   "source": [
    "During training, we periodically snapshot the model parameters and evaluate the worst-case metric value (i.e. the \"max\" objective) on the validation set. At the end of training, we choose the iterate that yields the minimum worst-case metric."
   ]
  },
  {
   "cell_type": "code",
   "execution_count": 36,
   "metadata": {},
   "outputs": [
    {
     "name": "stdout",
     "output_type": "stream",
     "text": [
      "Iteration 1000: Validation max objective = 0.317 "
     ]
    }
   ],
   "source": [
    "# Create temporary directory for snapshotting models.\n",
    "temp_directory = tempfile.mktemp()\n",
    "os.mkdir(temp_directory)\n",
    "\n",
    "# Indices of protected group members.\n",
    "protected_group_indices = np.nonzero(groups_train.sum(axis=1))[0]\n",
    "\n",
    "num_examples = text_train.shape[0]\n",
    "num_examples_sen = protected_group_indices.shape[0]\n",
    "batch_size = hparams[\"batch_size\"]\n",
    "\n",
    "# List of recorded \"max\" objectives.\n",
    "max_objectives_list = []\n",
    "\n",
    "# Loop over minibatches.\n",
    "for batch_index in range(hparams[\"num_iterations\"] + 1):\n",
    "    # Indices for current minibatch in the first stream.\n",
    "    batch_indices = np.arange(batch_index * batch_size, (batch_index + 1) * batch_size)\n",
    "    batch_indices = [ind % num_examples for ind in batch_indices]\n",
    "\n",
    "    # Indices for current minibatch in the second stream.\n",
    "    batch_indices_sen = np.arange(batch_index * batch_size, (batch_index + 1) * batch_size)\n",
    "    batch_indices_sen = [protected_group_indices[ind % num_examples_sen]\n",
    "                         for ind in batch_indices_sen]\n",
    "\n",
    "    # Assign features, labels, groups from the minibatches to the respective tensors.\n",
    "    features_tensor.assign(text_train[batch_indices, :])\n",
    "    labels_tensor.assign(labels_train[batch_indices])\n",
    "\n",
    "    features_tensor_sen.assign(text_train[batch_indices_sen, :])\n",
    "    labels_tensor_sen.assign(labels_train[batch_indices_sen])\n",
    "    groups_tensor_sen.assign(groups_train[batch_indices_sen, :])\n",
    "\n",
    "    # Gradient update.\n",
    "    optimizer.minimize(problem, var_list=var_list)\n",
    "\n",
    "    # Once in every skip_iterations iterations, snapshot model parameters \n",
    "    # and evaluate \"max\" objective on the validation set.\n",
    "    if batch_index % hparams[\"skip_iterations\"] == 0:\n",
    "        # Evaluate on validation set.\n",
    "        scores_vali = model_robust.predict(text_vali)\n",
    "\n",
    "        fpr = false_positive_rate(labels_vali, scores_vali)\n",
    "        fnr = false_negative_rate(labels_vali, scores_vali)\n",
    "        objectives = [fpr, fnr]\n",
    "\n",
    "        group_fnrs = group_false_negative_rates(labels_vali, scores_vali, groups_vali)\n",
    "        group_fnrs = [group_fnrs[jj] for jj in range(num_groups)]\n",
    "        objectives += group_fnrs\n",
    "\n",
    "        group_fprs = group_false_positive_rates(labels_vali, scores_vali, groups_vali)\n",
    "        group_fprs = [group_fprs[jj] for jj in range(num_groups)]\n",
    "        objectives += group_fprs\n",
    "        \n",
    "        max_objectives_list.append(max(objectives))\n",
    "\n",
    "        # Save model weights to temporary directory.\n",
    "        model_robust.save_weights(\n",
    "            temp_directory + \"/robust_\" + \n",
    "            str(int(batch_index / hparams[\"skip_iterations\"])) + \".h5\")\n",
    "\n",
    "    # Display most recently recorded objective.\n",
    "    sys.stdout.write(\"\\rIteration %d: Validation max objective = %.3f \" % \n",
    "                     (batch_index, max_objectives_list[-1]))\n",
    "\n",
    "# Select the best model from the recorded iterates. Pick the one with the \n",
    "# minimum \"max objective\", and load its weights.\n",
    "best_index = np.argmin(max_objectives_list)\n",
    "model_robust.load_weights(temp_directory + \"/robust_\" + str(best_index) + \".h5\")\n",
    "\n",
    "# Remove temporary directory.\n",
    "shutil.rmtree(temp_directory)"
   ]
  },
  {
   "cell_type": "markdown",
   "metadata": {},
   "source": [
    "We plot various evaluation metrics for the trained model on the test set."
   ]
  },
  {
   "cell_type": "code",
   "execution_count": 37,
   "metadata": {},
   "outputs": [
    {
     "data": {
      "image/png": "[encoded data removed]",
      "text/plain": [
       "<Figure size 576x216 with 2 Axes>"
      ]
     },
     "metadata": {
      "needs_background": "light"
     },
     "output_type": "display_data"
    }
   ],
   "source": [
    "scores_test = model_robust.predict(text_test)\n",
    "plot_metrics(labels_test, scores_test, groups_test, group_names, \"Robust Opt Model\")"
   ]
  },
  {
   "cell_type": "markdown",
   "metadata": {},
   "source": [
    "Compared to the two previous models, we can see a significant reduction in the false negative rates. This however comes at the cost of a slightly lower accuracy and higher false positive rates. \n",
    "\n",
    "Note that none of the metrics plotted above exceeds 25%, whereas the worst metric value for the unconstrained and constrained models is higher than 50%. Thus the trained model performs the best on the worst-case metric value, which is precisely what we sought to optimize."
   ]
  },
  {
   "cell_type": "markdown",
   "metadata": {},
   "source": [
    "## Performance on finer groups"
   ]
  },
  {
   "cell_type": "markdown",
   "metadata": {},
   "source": [
    "We close this tutorial by noting that while constrained and robust optimization are effective means to enforce different fairness goals, with both these approaches, you at best get what you ask for! \n",
    "\n",
    "For example, with the robust optimization problem that we solved above, we observed that none of the four topic groups incurred a false positive rate or a false negative rate of more than 25%. However, the same may not hold for the finer sub-groups within these groups. Let's take a closer look at sub-groups within the *sexuality* topic group."
   ]
  },
  {
   "cell_type": "code",
   "execution_count": 38,
   "metadata": {
    "scrolled": true
   },
   "outputs": [
    {
     "data": {
      "text/html": [
       "<div>\n",
       "<style scoped>\n",
       "    .dataframe tbody tr th:only-of-type {\n",
       "        vertical-align: middle;\n",
       "    }\n",
       "\n",
       "    .dataframe tbody tr th {\n",
       "        vertical-align: top;\n",
       "    }\n",
       "\n",
       "    .dataframe thead th {\n",
       "        text-align: right;\n",
       "    }\n",
       "</style>\n",
       "<table border=\"1\" class=\"dataframe\">\n",
       "  <thead>\n",
       "    <tr style=\"text-align: right;\">\n",
       "      <th></th>\n",
       "      <th>Sub-group</th>\n",
       "      <th>Sub-group proportion</th>\n",
       "      <th>Label proportion</th>\n",
       "    </tr>\n",
       "  </thead>\n",
       "  <tbody>\n",
       "    <tr>\n",
       "      <th>0</th>\n",
       "      <td>gay</td>\n",
       "      <td>0.58%</td>\n",
       "      <td>55.9%</td>\n",
       "    </tr>\n",
       "    <tr>\n",
       "      <th>1</th>\n",
       "      <td>lesbian</td>\n",
       "      <td>0.06%</td>\n",
       "      <td>35.0%</td>\n",
       "    </tr>\n",
       "    <tr>\n",
       "      <th>2</th>\n",
       "      <td>bisexual</td>\n",
       "      <td>0.03%</td>\n",
       "      <td>0.0%</td>\n",
       "    </tr>\n",
       "    <tr>\n",
       "      <th>3</th>\n",
       "      <td>homosexual</td>\n",
       "      <td>0.24%</td>\n",
       "      <td>39.5%</td>\n",
       "    </tr>\n",
       "    <tr>\n",
       "      <th>4</th>\n",
       "      <td>straight</td>\n",
       "      <td>0.46%</td>\n",
       "      <td>7.6%</td>\n",
       "    </tr>\n",
       "    <tr>\n",
       "      <th>5</th>\n",
       "      <td>heterosexual</td>\n",
       "      <td>0.03%</td>\n",
       "      <td>11.1%</td>\n",
       "    </tr>\n",
       "  </tbody>\n",
       "</table>\n",
       "</div>"
      ],
      "text/plain": [
       "      Sub-group Sub-group proportion Label proportion\n",
       "0           gay                0.58%            55.9%\n",
       "1       lesbian                0.06%            35.0%\n",
       "2      bisexual                0.03%             0.0%\n",
       "3    homosexual                0.24%            39.5%\n",
       "4      straight                0.46%             7.6%\n",
       "5  heterosexual                0.03%            11.1%"
      ]
     },
     "execution_count": 38,
     "metadata": {},
     "output_type": "execute_result"
    }
   ],
   "source": [
    "# We treat each identity term related to \"sexuality\" as a separate sub-group.\n",
    "terms_sexuality = terms[\"sexuality\"]\n",
    "\n",
    "# Create a sub-group membership matrix.\n",
    "comments_test = data_test[\"comment\"]\n",
    "subgroups_test = np.zeros((comments_test.shape[0], len(terms_sexuality)))\n",
    "for ii in range(len(terms_sexuality)):\n",
    "    subgroups_test[:, ii] = comments_test.str.contains(terms_sexuality[ii], case=False)\n",
    "\n",
    "# Display sub-group statistics.\n",
    "group_stats = []\n",
    "for ii in range(len(terms_sexuality)):\n",
    "    group_stats.append([terms_sexuality[ii], \n",
    "                        \"%.2f%%\" % (subgroups_test[:, ii].mean() * 100), \n",
    "                        \"%.1f%%\" % (labels_test[subgroups_test[:, ii] == 1].mean() * 100)])\n",
    "group_stats_df = pd.DataFrame(\n",
    "    group_stats, columns=[\"Sub-group\", \"Sub-group proportion\", \"Label proportion\"])\n",
    "group_stats_df"
   ]
  },
  {
   "cell_type": "markdown",
   "metadata": {},
   "source": [
    "The performance of the robust optimization model within each of these subgroups is shown below."
   ]
  },
  {
   "cell_type": "code",
   "execution_count": 39,
   "metadata": {
    "scrolled": true
   },
   "outputs": [
    {
     "data": {
      "image/png": "[encoded data removed]",
      "text/plain": [
       "<Figure size 576x216 with 2 Axes>"
      ]
     },
     "metadata": {
      "needs_background": "light"
     },
     "output_type": "display_data"
    }
   ],
   "source": [
    "plot_metrics(labels_test, scores_test, subgroups_test, \n",
    "             group_names=terms_sexuality, title=\"Robust Opt Model on Finer Groups\")"
   ]
  },
  {
   "cell_type": "markdown",
   "metadata": {},
   "source": [
    "Notice that comments that contain the term \"heterosexual\" only constitute 0.03% of the dataset. It's therefore unsuprising that the robust optimization model has a false negative rate of 100% on this subgroup. Also notice that comments that contain the term \"gay\" have a higher false positive rate than the larger group of sexuality-related comments.\n",
    "\n",
    "While one could consider training a model by directly constraining these tiny subgroups, such a model is likely to generalize very poorly to new data. A better strategy would be to instead collect more training data for each of these subgroups, and then control performance on these subgroups through a constrained or robust optimization set-up."
   ]
  }
 ],
 "metadata": {
  "kernelspec": {
   "display_name": "Python 3",
   "language": "python",
   "name": "python3"
  },
  "language_info": {
   "codemirror_mode": {
    "name": "ipython",
    "version": 3
   },
   "file_extension": ".py",
   "mimetype": "text/x-python",
   "name": "python",
   "nbconvert_exporter": "python",
   "pygments_lexer": "ipython3",
   "version": "3.7.5rc1"
  }
 },
 "nbformat": 4,
 "nbformat_minor": 2
}
